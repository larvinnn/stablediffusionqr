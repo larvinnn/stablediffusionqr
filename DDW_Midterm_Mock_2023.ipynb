{
  "nbformat": 4,
  "nbformat_minor": 0,
  "metadata": {
    "colab": {
      "provenance": [],
      "toc_visible": true,
      "include_colab_link": true
    },
    "kernelspec": {
      "name": "python3",
      "display_name": "Python 3"
    },
    "language_info": {
      "name": "python"
    }
  },
  "cells": [
    {
      "cell_type": "markdown",
      "metadata": {
        "id": "view-in-github",
        "colab_type": "text"
      },
      "source": [
        "<a href=\"https://colab.research.google.com/github/larvinnn/stablediffusionqr/blob/master/DDW_Midterm_Mock_2023.ipynb\" target=\"_parent\"><img src=\"https://colab.research.google.com/assets/colab-badge.svg\" alt=\"Open In Colab\"/></a>"
      ]
    },
    {
      "cell_type": "markdown",
      "source": [
        "# OO Question: DFS with Stack [16pts]\n",
        "\n",
        "Take a look at the implementation of Stack in our Cohort problem.\n",
        "\n",
        "The class has the following properties:\n",
        "\n",
        "- `is_empty` is a computed property which returns either `True` or `False` depending on whether the stack is empty or not.\n",
        "- `size` is a computed property which returns the number of items in the stack.\n",
        "\n",
        "The class also has the following interface:\n",
        "\n",
        "- `__init__()` to initialise an empty list for the stack to store the items.\n",
        "- `push(item)` which stores an integer into the top of the stack.\n",
        "- `pop()` which returns and removes the top element of the stack. The return value is optional as it may return `None` if there are no more elements in the stack.\n",
        "- `peek()` which returns the top element of the stack. If the stack is empty, it returns `None`."
      ],
      "metadata": {
        "id": "XodZwJSVCuJ6"
      }
    },
    {
      "cell_type": "code",
      "execution_count": null,
      "metadata": {
        "id": "Vaz9mV5XCiNM"
      },
      "outputs": [],
      "source": [
        "class Stack:\n",
        "    def __init__(self):\n",
        "        self._items = []\n",
        "\n",
        "    def push(self, item):\n",
        "        self._items.append(item)\n",
        "        pass\n",
        "\n",
        "    def pop(self):\n",
        "        if len(self._items) >= 1:\n",
        "            return self._items.pop()\n",
        "        pass\n",
        "\n",
        "    def peek(self):\n",
        "        if len(self._items) >= 1:\n",
        "            return self._items[-1]\n",
        "        pass\n",
        "\n",
        "    @property\n",
        "    def is_empty(self):\n",
        "        return self._items == []\n",
        "\n",
        "    @property\n",
        "    def size(self):\n",
        "        return len(self._items)\n",
        "\n",
        "    def __str__(self):\n",
        "        if self.is_empty:\n",
        "            return 'The stack is empty'\n",
        "        out = 'Top\\n'\n",
        "        for i in range(len(self._items)-1, 0, -1):\n",
        "            out += str(self._items[i]) + '\\n'\n",
        "        out += str(self._items[0]) + '\\n' + 'Bottom\\n'\n",
        "        return out"
      ]
    },
    {
      "cell_type": "markdown",
      "source": [
        "## Question 1 [3pts]\n",
        "\n",
        "Create a class `UniqueStack` as a subclass of `Stack`. The class should override the regular `push` method in `Stack`.\n",
        "\n",
        "- [1pt] `push(self, item)`: adds item to the top of the stack _if and only if_ the item does **not** already exist in the stack. It should return `True` if the item is successfully added to the stack, and `False` otherwise.\n",
        "- [1pt] `__contains(self, item)__`: check if the stack contains the given item. It should return `True` or `False` accordingly.\n",
        "\n",
        "The class should also have the following method:\n",
        "\n",
        "- [1pt] `reset(self)`: empties the stack (empties `__items`) right away"
      ],
      "metadata": {
        "id": "0AtlUGCCEQ1W"
      }
    },
    {
      "cell_type": "code",
      "source": [
        "class UniqueStack(Stack):\n",
        "    def __contains__(self, item):\n",
        "        ###\n",
        "        ### YOUR CODE HERE\n",
        "        ###\n",
        "        pass\n",
        "\n",
        "    def push(self, item):\n",
        "        ###\n",
        "        ### YOUR CODE HERE\n",
        "        ###\n",
        "        pass\n",
        "\n",
        "    def reset(self):\n",
        "        ###\n",
        "        ### YOUR CODE HERE\n",
        "        ###\n",
        "        pass"
      ],
      "metadata": {
        "id": "1FYEuO3iE6M3"
      },
      "execution_count": null,
      "outputs": []
    },
    {
      "cell_type": "code",
      "source": [
        "## Question 1 sample test\n",
        "unique_stack = UniqueStack()\n",
        "assert unique_stack.is_empty == True\n",
        "assert unique_stack.push(5) == True\n",
        "assert unique_stack.is_empty == False\n",
        "assert (5 in unique_stack) == True\n",
        "assert (6 in unique_stack) == False\n",
        "assert unique_stack.push(6) == True\n",
        "assert unique_stack.push(6) == False\n",
        "print(unique_stack)\n",
        "# Top\n",
        "# 6\n",
        "# 5\n",
        "# Bottom\n",
        "\n",
        "assert unique_stack.pop() == 6\n",
        "print(unique_stack)\n",
        "# Top\n",
        "# 5\n",
        "# Bottom\n",
        "\n",
        "unique_stack.reset()\n",
        "assert unique_stack.is_empty == True\n",
        "assert (3 in unique_stack) == False"
      ],
      "metadata": {
        "id": "sgCNx87mFNMf"
      },
      "execution_count": null,
      "outputs": []
    },
    {
      "cell_type": "markdown",
      "source": [
        "## Question 2 [2pts]\n",
        "\n",
        "Now observe the class `Vertex` we used in our cohort problem. Extend the `Vertex` class so it implements the following method:\n",
        "\n",
        "- [2pts] `remove_neighbour(self, nbr_vertex)`: This will remove `nbr_vertex` from the dictionary `neighbours` in this `Vertex` instance. It should return `False` if one attempts to remove a neighbour that does not exist. Otherwise, it returns `True`.\n",
        "\n",
        "You can always assume that `id` for any Vertices is **always** a string. You don't have to account for any illegal inputs."
      ],
      "metadata": {
        "id": "hQXnRDN0ILbq"
      }
    },
    {
      "cell_type": "code",
      "source": [
        "class Vertex:\n",
        "    def __init__(self, id=\"\"):\n",
        "        self.id = id\n",
        "        self.neighbours = {}\n",
        "\n",
        "    def add_neighbour(self, nbr_vertex, weight=0):\n",
        "        self.neighbours[nbr_vertex] = weight\n",
        "\n",
        "    def remove_neighbour(self, nbr_vertex):\n",
        "        ###\n",
        "        ### YOUR CODE HERE\n",
        "        ###\n",
        "        pass\n",
        "\n",
        "    def get_neighbours(self):\n",
        "        return list(self.neighbours.keys())\n",
        "\n",
        "    def __str__(self):\n",
        "        return 'Vertex {self.id} is connected to: '.format(self=self) \\\n",
        "                + ', '.join([x.id for x in self.get_neighbours()])"
      ],
      "metadata": {
        "id": "vP4gNKm4IubR"
      },
      "execution_count": null,
      "outputs": []
    },
    {
      "cell_type": "code",
      "source": [
        "## Question 2 sample test\n",
        "v1 = Vertex('1')\n",
        "v2 = Vertex('2')\n",
        "v1.add_neighbour(v2)\n",
        "v3 = Vertex('3')\n",
        "v1.add_neighbour(v3, 3)\n",
        "print(v1)\n",
        "# Vertex 1 is connected to: 2, 3\n",
        "\n",
        "assert v1.remove_neighbour(v2)\n",
        "assert not v1.remove_neighbour(v2)\n",
        "print(v1)\n",
        "# Vertex 1 is connected to: 3"
      ],
      "metadata": {
        "id": "MA7LZG82JXB9"
      },
      "execution_count": null,
      "outputs": []
    },
    {
      "cell_type": "markdown",
      "source": [
        "## Question 3 [2pts]\n",
        "\n",
        "Now read the `Graph` class that we used in our Cohort problems as well. Note that this is a **directed** graph. Extend the `Graph` class so it implements the following methods:\n",
        "\n",
        "- [2pts] `remove_edge(self, start_v, end_v)`: This will remove the edge from `start_v` and `end_v` if both vertices exist in the graph. It should return `False` if one attempts to remove a neighbour that does not exist. Otherwise, it returns `True`.\n",
        "- Hint: you can use `Vertex`'s method `remove_neighbour(v)` from the previous question. Note that the argument for `remove_neighbour(v)` is a `Vertex` object while the arguments for `remove_edge(start_v, end_v)` are the Vertices' `id`, which is a **string**."
      ],
      "metadata": {
        "id": "mWvcvu6QJsRY"
      }
    },
    {
      "cell_type": "code",
      "source": [
        "class Graph:\n",
        "    def __init__(self):\n",
        "        self.vertices = {}\n",
        "\n",
        "    def _create_vertex(self, id):\n",
        "        return Vertex(id)\n",
        "\n",
        "    def add_vertex(self, id):\n",
        "        v = self._create_vertex(id)\n",
        "        self.vertices[v.id] = v\n",
        "\n",
        "    def get_vertex(self, id):\n",
        "        v = self.vertices.get(id, None)\n",
        "        return v\n",
        "\n",
        "    def add_edge(self, start_v, end_v, weight=0):\n",
        "        if start_v not in self.vertices:\n",
        "            vs = self.add_vertex(start_v)\n",
        "        vs = self.vertices[start_v]\n",
        "        if end_v not in self.vertices:\n",
        "            ve = self.add_vertex(end_v)\n",
        "        ve = self.vertices[end_v]\n",
        "        vs.add_neighbour(ve, weight)\n",
        "\n",
        "    def remove_edge(self, start_v, end_v):\n",
        "        ###\n",
        "        ### YOUR CODE HERE\n",
        "        ###\n",
        "        pass\n",
        "\n",
        "    def get_neighbours(self, id):\n",
        "        v = self.get_vertex(id)\n",
        "        if v is not None:\n",
        "            neighbours = v.get_neighbours()\n",
        "            result = []\n",
        "            for n in neighbours:\n",
        "                result.append(n.id)\n",
        "            # print(\"unsorted neighbours result\", result)\n",
        "            return result\n",
        "        else:\n",
        "            return None\n",
        "\n",
        "    def __contains__(self, val):\n",
        "        return val in self.vertices.keys()\n",
        "\n",
        "    def __iter__(self):\n",
        "        for k,v in self.vertices.items():\n",
        "            yield v\n",
        "\n",
        "    @property\n",
        "    def num_vertices(self):\n",
        "        return len(self.vertices)\n",
        "\n",
        "    def __str__(self):\n",
        "        out = ''\n",
        "        for v in self:\n",
        "            out += v.__str__()\n",
        "            out += '\\n'\n",
        "        return out"
      ],
      "metadata": {
        "id": "KyZeSjzLKcPk"
      },
      "execution_count": null,
      "outputs": []
    },
    {
      "cell_type": "code",
      "source": [
        "## Question 3 sample test\n",
        "g = Graph()\n",
        "assert g.vertices == {} and g.num_vertices == 0\n",
        "g.add_vertex('A')\n",
        "g.add_vertex('B')\n",
        "g.add_vertex('C')\n",
        "g.add_vertex('D')\n",
        "g.add_edge('A', 'D')\n",
        "g.add_edge('A', 'C') # by here, A has two children: D and C. DFS should explore node C first (alphabetical traversal)\n",
        "g.add_edge('C', 'B')\n",
        "g.add_edge('C', 'D')\n",
        "print(g)\n",
        "# Vertex A is connected to: D, C\n",
        "# Vertex B is connected to:\n",
        "# Vertex C is connected to: B, D\n",
        "# Vertex D is connected to:\n",
        "\n",
        "# test remove\n",
        "assert g.remove_edge('C', 'B') # success, node B is disjoint from A, C, and D\n",
        "assert not g.remove_edge('A', 'A')\n",
        "print(g)\n",
        "# Vertex A is connected to: D, C\n",
        "# Vertex B is connected to:\n",
        "# Vertex C is connected to: D\n",
        "# Vertex D is connected to:"
      ],
      "metadata": {
        "id": "CQ0kyIbELofv"
      },
      "execution_count": null,
      "outputs": []
    },
    {
      "cell_type": "markdown",
      "source": [
        "## Question 4 [4pts]\n",
        "\n",
        "Create a class `DirectedGraph` as a subclass of `Graph`. Implement the following method:\n",
        "\n",
        "`depth_first_search(self, v_id, unique_stack, temp_stack = Stack(), n = float('inf'))`:\n",
        "\n",
        "- It performs a DFS traversal on the graph utilising a Stack ADT. An iterative DFS will be an easier way to implement this.\n",
        "\n",
        "- It **always** explores adjacent vertices **alphabetically**, for instance, if a vertex 'A' has adjacent vertices 'G' and 'E', it will **always** explore 'E' first.\n",
        "\n",
        "- **You can assume that all vertices in the Graph has a distinct `id`.**\n",
        "\n",
        "- Thee **arguments must** be given:\n",
        "\n",
        "    - `v_id` (String): This is the starting vertex **id**. The algorithm should traverse through all vertices in the `DirectedGraph` instance that are reachable by `v_id`.\n",
        "    - `unique_stack` (UniqueStack): A UniqueStack instance. If you call `depth_first_search` the first time, then this should be a new UniqueStack instance (empty stack). Otherwise, see sample test case given.\n",
        "    - `temp_stack` (Stack): A regular Stack instance. If you call `depth_first_search` the first time, then this should be a new Stack instance (empty stack). Otherwise, see sample test case given.\n",
        "        - When the function returns, the **content** of `temp_stack` is all _univisited_ adjacent vertices `v_id` of the visited vertices **after** `n` vertices are explored (added to `unique_stack`).\n",
        "        - The reason we have this stack is so that we can **\"pause\"** the execution of DFS after `n` vertices are explore to examine these explored vertices, and then **resume** back until completion by passing the same `temp_stack` back (see the given sample test) to the following call of `depth_first_search`.\n",
        "        - You are free to utilise the `temp_stack` however you like. We won't be checking the contents of this stack during autograding. You should simply ensure that `depth_first_search` can resume.\n",
        "    \n",
        "- There is one **optional** argument,\n",
        "\n",
        "    - `n` (int): indicates the number of vertices that **must be visited** before the function returns. If not specified, `n` is set to inf and the function will run until all vertices that are reachable from `v_id` are explored. You can **assume that if set, `n` is always less than the number of reachable vertices from `v_id`**. In other words, given the assumption above, if `n` is set to be a positive value other than `inf`, then the value of `unique_stack.size` **must** be `n` when the function returns, and\n",
        "\n",
        "- **Return** value:\n",
        "\n",
        "    - The function should return `temp_stack`\n",
        "\n",
        "Final note:\n",
        "\n",
        "- **You must implement** DFS using both the stack data structure `temp_stack` and `unique_stack`\n",
        "- You don't have to account for illegal inputs. Assume that `v_id` is always a string, `unique_stack` is an instance of `UniqueStack`, and so on.\n",
        "- The function also should **NOT** alter the Graph in any way. The Graph's attributes and properties should remain the same prior to and after running `depth_first_search`."
      ],
      "metadata": {
        "id": "LjjBy1fuMUNk"
      }
    },
    {
      "cell_type": "code",
      "source": [
        "class DirectedGraph(Graph):\n",
        "    def depth_first_search(self, v_id, unique_stack, temp_stack = Stack(), n = float('inf')):\n",
        "        ###\n",
        "        ### YOUR CODE HERE\n",
        "        ###\n",
        "        return temp_stack"
      ],
      "metadata": {
        "id": "IHs7Pa_0O6Ep"
      },
      "execution_count": null,
      "outputs": []
    },
    {
      "cell_type": "code",
      "source": [
        "## Question 4 sample test\n",
        "def create_graph():\n",
        "    g = DirectedGraph()\n",
        "    assert g.vertices == {} and g.num_vertices == 0\n",
        "    g.add_vertex('A')\n",
        "    g.add_vertex('B')\n",
        "    g.add_vertex('C')\n",
        "    g.add_vertex('D')\n",
        "    g.add_vertex('E')\n",
        "    g.add_vertex('F')\n",
        "    g.add_edge('A', 'C')\n",
        "    g.add_edge('A', 'D') # by here, A has two children: D and C. DFS should explore node C first (alphabetical traversal)\n",
        "    g.add_edge('B', 'D')\n",
        "    g.add_edge('B', 'C')\n",
        "    g.add_edge('C', 'D')\n",
        "    g.add_edge('C', 'E')\n",
        "    g.add_edge('D', 'B')\n",
        "    g.add_edge('D', 'A')\n",
        "    g.add_edge('D', 'D')\n",
        "    g.add_edge('D', 'E')\n",
        "    return g\n",
        "\n",
        "g = create_graph()\n",
        "print(g)\n",
        "# Vertex A is connected to: C, D\n",
        "# Vertex B is connected to: D, C\n",
        "# Vertex C is connected to: D, E\n",
        "# Vertex D is connected to: B, A, D, E\n",
        "# Vertex E is connected to:\n",
        "# Vertex F is connected to:\n",
        "\n",
        "# We will call depth_first_search for the first time\n",
        "# Create a new instance of UniqueStack and Stack\n",
        "unique_stack = UniqueStack()\n",
        "temp_stack = Stack()\n",
        "print('Performing DFS to visit just three nodes.')\n",
        "\n",
        "# call DFS for n=3, then store the temp_stack output\n",
        "temp_stack = g.depth_first_search('A', unique_stack, temp_stack, n=3)\n",
        "print(unique_stack) # node A, then node B, then node C were explored in that order\n",
        "# Top\n",
        "# D\n",
        "# C\n",
        "# A\n",
        "# Bottom\n",
        "\n",
        "print('Resuming DFS...')\n",
        "# pass back the temp_stack from the output of the first depth_first_search function call as input to the second depth_first_search function call\n",
        "temp_stack = g.depth_first_search(temp_stack.pop(), unique_stack, temp_stack)\n",
        "print(unique_stack) # DFS explores A -> C -> D -> B -> E. Node F is disjoint and wont be explored.\n",
        "# Top\n",
        "# E\n",
        "# B\n",
        "# D\n",
        "# C\n",
        "# A\n",
        "# Bottom\n",
        "\n",
        "print(temp_stack) # The stack is empty, all nodes explored\n",
        "print(g) # same output as above, graph is unaltered"
      ],
      "metadata": {
        "id": "D2QsRX0dPMpG"
      },
      "execution_count": null,
      "outputs": []
    },
    {
      "cell_type": "markdown",
      "source": [
        "## Question 5 [5pts]\n",
        "\n",
        "Create a class `Tree` as a subclass of `Graph`. It has **one** attribute that has to be initialised upon instatiation:\n",
        "\n",
        "- [1pt] `root`: the `id` of the starting vertex of the Tree. This means the `vertices` in the base class Graph must be updated upon initialisation.\n",
        "\n",
        "[4pts] Override the method: `add_edge(self, start_v, end_v, weight=0)` such that it will **successfully** add an edge if ALL the following conditions are **True**:\n",
        "\n",
        "- It does **not** cause a cycle, that is: no edge is pointed back to _any_ of the ancestores **and**,\n",
        "- It does not cause the destinatation vertex to be accessible by the root via more than one path. For instance given an existing graph A -> B, A -> C, we cannot add an edge B -> C as it causes C to be accessible by two paths: A -> C and A -> B -> C.\n",
        "- It is `start_v` is **EXPLORABLE** from the `root`\n",
        "\n",
        "_Hint: you may want to reuse the DFS method of `Graph` class._"
      ],
      "metadata": {
        "id": "r5r6qLNKR0dv"
      }
    },
    {
      "cell_type": "code",
      "source": [
        "class Tree(Graph):\n",
        "    def __init__(self, root):\n",
        "        ###\n",
        "        ### YOUR CODE HERE\n",
        "        ###\n",
        "        pass\n",
        "\n",
        "    def add_edge(self, start_v, end_v, weight=0):\n",
        "        ###\n",
        "        ### YOUR CODE HERE\n",
        "        ###\n",
        "        pass"
      ],
      "metadata": {
        "id": "h2fdo9GiStGj"
      },
      "execution_count": null,
      "outputs": []
    },
    {
      "cell_type": "code",
      "source": [
        "## Question 5 sample test\n",
        "tree = Tree('A')\n",
        "assert tree.add_edge('A', 'B') == True\n",
        "assert tree.add_edge('A', 'C') == True\n",
        "assert tree.add_edge('B', 'C') == False # causes C to be explorable BOTH from A and B\n",
        "assert tree.add_edge('C', 'B') == False # causes B to be explorable BOTH from A and C\n",
        "assert tree.add_edge('D', 'E') == False # adds disjoint tree, should return False\n",
        "assert tree.add_edge('A', 'E') == True\n",
        "\n",
        "print(tree)"
      ],
      "metadata": {
        "id": "Ytla6BlXS1Tr"
      },
      "execution_count": null,
      "outputs": []
    },
    {
      "cell_type": "markdown",
      "source": [
        "# Algo Question: Quicksort [5pts]\n",
        "\n",
        "In the first six weeks of class, we studied a few different sorting algorithms, including **bubble sort** or **insertion sort**. For this question, you will have to implement **quicksort**, which is another popular sorting algorithm.\n",
        "\n",
        "## Algorithm\n",
        "\n",
        "Quicksort algorithm works as follows:\n",
        "\n",
        "1. Create three empty sublists: `low`, `same`, and `high`\n",
        "2. Choose a random element in the list as a `pivot`\n",
        "3. Go through each element in the list\n",
        "\n",
        "    - If the current element is smaller than the pivot, store it in the `low` sublist\n",
        "    - If the current element is equal to the pivot, store it in the `same` sublist\n",
        "    - If the current element is larger than the pivot, store it in the `high` sublist\n",
        "\n",
        "4. Return a concatenation of the following lists:\n",
        "\n",
        "    - The result of quicksort called on `low`\n",
        "    - `same`\n",
        "    - The result of quicksort called on `high`\n",
        "\n",
        "Here is an illustration of the quicksort algorithm:"
      ],
      "metadata": {
        "id": "58LYT4AmTXwa"
      }
    },
    {
      "cell_type": "markdown",
      "source": [
        "![quicksort1.png](data:image/png;base64,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)"
      ],
      "metadata": {
        "id": "fTtT6csRUI6v"
      }
    },
    {
      "cell_type": "markdown",
      "source": [
        "## Implementation\n",
        "\n",
        "For this question, we will implement quicksort, but will add the following optimisation and changes:\n",
        "\n",
        "- Before choosing a pivot, if the `list` contains zero or one element, return the `list` without going through the pivot\n",
        "- You will need to store all the pivots you chose in the `pivots` argument given to the `quicksort` function.\n",
        "\n",
        "Additional instructions:\n",
        "\n",
        "- Since we are using random numbers, we will use a seed value of `100` to get consistent results. Do not modify the seed initialisation in the code.\n",
        "- The pivot can be any element from the list, at an index between `0` and `len(array) - 1` (inclusive)\n",
        "- **The function returns a new list, leaving the original list provided as an argument unsorted**"
      ],
      "metadata": {
        "id": "eVYYpyIqVdkQ"
      }
    },
    {
      "cell_type": "code",
      "source": [
        "import random\n",
        "\n",
        "pivots = []\n",
        "\n",
        "def quicksort(array, pivots):\n",
        "    # Initilalising the seed to 100 to get consistent random results\n",
        "    random.seed(100)\n",
        "\n",
        "    ###\n",
        "    ### YOUR CODE HERE\n",
        "    ###"
      ],
      "metadata": {
        "id": "VCiRFuXRWIQJ"
      },
      "execution_count": null,
      "outputs": []
    },
    {
      "cell_type": "code",
      "source": [
        "# check data type (1pt)\n",
        "l = [9, 5, 8, 15, 19, 9, 4, 10, 17, 7]\n",
        "pivots = []\n",
        "result = quicksort(l, pivots)\n",
        "assert isinstance(l, list)\n",
        "assert isinstance(result, list)\n",
        "assert isinstance(pivots, list)"
      ],
      "metadata": {
        "id": "sxr3qFiFWUhW"
      },
      "execution_count": null,
      "outputs": []
    },
    {
      "cell_type": "code",
      "source": [
        "# check length (1pt)\n",
        "l = [9, 5, 8, 15, 19, 9, 4, 10, 17, 7]\n",
        "pivots = []\n",
        "result = quicksort(l, pivots)\n",
        "assert len(pivots) == 5\n",
        "assert len(result) == 10\n",
        "assert len(l) == 10"
      ],
      "metadata": {
        "id": "qxN3XTL0Wjhk"
      },
      "execution_count": null,
      "outputs": []
    },
    {
      "cell_type": "code",
      "source": [
        "# check element type (1pt)\n",
        "l = [9, 5, 8, 15, 19, 9, 4, 10, 17, 7]\n",
        "pivots = []\n",
        "result = quicksort(l, pivots)\n",
        "assert isinstance(pivots[0], int)\n",
        "assert isinstance(result[-1], int)\n",
        "assert isinstance(l[len(l)//2], int)"
      ],
      "metadata": {
        "id": "3TddT1wIWsdz"
      },
      "execution_count": null,
      "outputs": []
    },
    {
      "cell_type": "code",
      "source": [
        "## Test case 1 (2pts)\n",
        "l = [9, 5, 8, 15, 19, 9, 4, 10, 17, 7]\n",
        "pivots = []\n",
        "result = quicksort(l, pivots)\n",
        "assert result == [4, 5, 7, 8, 9, 9, 10, 15, 17, 19]\n",
        "assert l == [9, 5, 8, 15, 19, 9, 4, 10, 17, 7]\n",
        "assert pivots == [8, 5, 15, 9, 19]"
      ],
      "metadata": {
        "id": "b50GZHXHW3lb"
      },
      "execution_count": null,
      "outputs": []
    }
  ]
}